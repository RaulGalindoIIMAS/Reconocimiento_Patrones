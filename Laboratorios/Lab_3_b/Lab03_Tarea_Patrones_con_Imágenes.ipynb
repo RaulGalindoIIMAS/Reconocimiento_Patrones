{
 "cells": [
  {
   "cell_type": "markdown",
   "metadata": {},
   "source": [
    "<a target=\"_blank\" href=\"https://colab.research.google.com/github/Detroxsys/RP-2023-2/blob/main/Laboratorios/Lab03%20Reconocimiento%20de%20Patrones%20en%20Im%C3%A1genes/Lab03_Tarea_Patrones_con_Im%C3%A1genes.ipynb\">\n",
    "  <img src=\"https://colab.research.google.com/assets/colab-badge.svg\" alt=\"Open In Colab\"/>\n",
    "</a>"
   ]
  },
  {
   "cell_type": "markdown",
   "metadata": {
    "id": "qFS_VxbTO-GI"
   },
   "source": [
    "# Laboratorio 03: Clasificador de Dígitos por medio de imágenes \n",
    "\n",
    "* Todo el código debe estar bien documentado y explicado. \n",
    "* El formato de entrega es un notebook con extensión .ipynb por medio de correo electrónico. \n",
    "* Se deben de completar todas las líneas de código. "
   ]
  },
  {
   "cell_type": "markdown",
   "metadata": {
    "id": "4cnMLWZLOgUb"
   },
   "source": [
    "## Reconocimiento de dígitos\n",
    "<p>En los siguientes ejercicios, trabajarás con el conjunto de datos de reconocimiento de dígitos MNIST, que tiene 10 clases, ¡los dígitos del 0 al 9! Una versión reducida del conjunto de datos <a href=\"http://yann.lecun.com/exdb/mnist/\">MNIST</a> es uno de los conjuntos de datos incluidos en <code>scikit-learn</code>\n",
    "\n",
    "Cada muestra de este conjunto de datos es una imagen de 8x8 que representa un dígito escrito a mano. Cada píxel está representado por un número entero en el rango de 0 a 16, lo que indica niveles variables de negro. Recuerde que los conjuntos de datos integrados de scikit-learn son del tipo <code>Bunch</code>, que son objetos similares a diccionarios.  Por otro lado, la clave <i>data</i> contiene la matriz de características, es decir, las imágenes como una matriz plana de 64 píxeles.</p>\n",
    "\n",
    "<p><img src=\"https://miro.medium.com/max/1400/1*hVdoiW35FXUE-fZ0HI30Tw.jpeg\" width=\"350\"></p>"
   ]
  },
  {
   "cell_type": "markdown",
   "metadata": {},
   "source": [
    "## Ejercicio 1: Importar los datos y explorar (1.5 punto)"
   ]
  },
  {
   "cell_type": "code",
   "execution_count": 1,
   "metadata": {
    "colab": {
     "base_uri": "https://localhost:8080/"
    },
    "id": "-4C4KRyjOgUd",
    "outputId": "4c970a6a-9978-47b3-d8e9-48ad22299016"
   },
   "outputs": [
    {
     "name": "stdout",
     "output_type": "stream",
     "text": [
      "\n",
      "\n"
     ]
    }
   ],
   "source": [
    "# Importar las librerías necesarias (sklearn.datasets, numpy, matplotlib, cv2)\n",
    "\n",
    "# Importa el dataset \"digits\" el cual es un conjunto de datos que se encuentra dentro de la librería sklearn\n",
    "digits= \n",
    "\n",
    "# Explora los componentes clave (keys) y la descripcion del dataset (DESCR)\n",
    "print()\n",
    "print()"
   ]
  },
  {
   "cell_type": "code",
   "execution_count": 2,
   "metadata": {
    "id": "ObGdd_jUOgUf"
   },
   "outputs": [],
   "source": [
    "# Explora los componentes clave de digits (data, target, images) \n",
    "print(digits.)\n",
    "print(digits.)\n",
    "print(digits.)"
   ]
  },
  {
   "cell_type": "code",
   "execution_count": 4,
   "metadata": {
    "id": "pwAZbmXXOgUg"
   },
   "outputs": [],
   "source": [
    "# Vamos a imprimir un digito\n",
    "plt.imshow(digits.images[], cmap=plt.cm.gray_r, interpolation='nearest')\n",
    "plt.show()"
   ]
  },
  {
   "cell_type": "markdown",
   "metadata": {
    "id": "-ENN8cy7OgUg"
   },
   "source": [
    "## Ejercicio 2: Train/Test (1.5 puntos)\n",
    "<p>A continuación crearemos nuestros conjuntos de entrenamiento y prueba con el método <code>train_test_split</code> y mediremos cual es el nivel de precisión de nuestro modelo. El objetivo es <b>predecir cual es el dígito dada una imagen</b>!!!. Para lo cual entrenaremos un clasificador <i>k-NN</i> a los datos de entrenamiento y luego calcularemos su precisión usando el método <code>accuracy_score()</code> en los datos de prueba ¿Como crees que en un modelo de Clasificación se calcule su precisión?. Parece bastante dificil, pero no lo es ;)</p>"
   ]
  },
  {
   "cell_type": "code",
   "execution_count": null,
   "metadata": {
    "id": "3VLff5ubOgUh"
   },
   "outputs": [],
   "source": [
    "# Importa la librería para entrenamiento y prueba de datos\n",
    "# la librería para calcular la precisión\n",
    "# la librería para importar nuestro modelo KNeighborsClassifier\n"
   ]
  },
  {
   "cell_type": "code",
   "execution_count": 4,
   "metadata": {
    "id": "BSYqja4vOgUh"
   },
   "outputs": [],
   "source": [
    "# Crea los arreglos para las variables independientes y la variable objetivo\n",
    "X = \n",
    "y = \n",
    "# Divide los arreglos anteriores en conjuntos de training y test en una proporcion del 70/30\n",
    "X_train, X_test, y_train, y_test = train_test_split(___, __, ___)\n",
    "# Instancia un clasificador k-NN con 7 vecinos\n",
    "knn = KNeighborsClassifier(n_neighbors=7)\n",
    "# Ajusta (Entrena) el clasificador en el conjunto de entrenamiento\n",
    "knn.fit(X_train, y_train)\n",
    "# Calcular las predicciones sobre el conjunto de prueba\n",
    "y_pred = knn.predict(X_test)\n",
    "# Verificar la precisión del modelo \n",
    "print(accuracy_score(____,____))"
   ]
  },
  {
   "cell_type": "markdown",
   "metadata": {
    "id": "zzCaosEWhgDa"
   },
   "source": [
    "¿Qué nos indica este accuracy?"
   ]
  },
  {
   "cell_type": "markdown",
   "metadata": {
    "id": "-4Q90hUtUMK-"
   },
   "source": [
    "## Ejercicio 3. Prueba el clasificador con tu propia imagen (3 puntos)\n",
    "\n",
    "Lo siguiente es probar el clasificador con tus propias imágenes, puedes seleccionar alguna de las disponibles aquí[aquí](https://github.com/Detroxsys/RP-2023-2/tree/main/Laboratorios/Lab02%20Reconocimiento%20de%20Patrones%20en%20Im%C3%A1genes) o crear la tuya propia. "
   ]
  },
  {
   "cell_type": "code",
   "execution_count": 4,
   "metadata": {
    "id": "XS0P8CFVeU7u"
   },
   "outputs": [],
   "source": [
    "#Importar librerías necesarias (en caso de no usar cv2)\n",
    "\n",
    "\n",
    "#Leer la imagen (puedes usar cv2 y \n",
    "#el código de guía para extraer la imagen desde GitHub)\n",
    "#Se recomienda leer en escala de grises\n",
    "img_raw = \n",
    "\n",
    "#Imprimir el tamaño de la imagen\n",
    "\n",
    "\n",
    "#La imagen debe ser de 8x8, de no ser el caso hay que redimensionar\n",
    "#CV2 incluye esta función. \n",
    "img_resize ="
   ]
  },
  {
   "cell_type": "code",
   "execution_count": 5,
   "metadata": {
    "id": "DPmwM8VoVhKz"
   },
   "outputs": [],
   "source": [
    "# Mostrar la imagen del digito a clasificar \n",
    "# Debe verse similar a los disponibles en digits\n"
   ]
  },
  {
   "cell_type": "code",
   "execution_count": null,
   "metadata": {
    "colab": {
     "base_uri": "https://localhost:8080/"
    },
    "id": "Fm-qpNpva2S4",
    "outputId": "0a4440b2-a5c0-4f9f-b563-b069240b935f"
   },
   "outputs": [
    {
     "name": "stdout",
     "output_type": "stream",
     "text": [
      "El número predicho es: [0]\n"
     ]
    }
   ],
   "source": [
    "#Ahora mismo la imagen es una matriz de 8x8 dígits \n",
    "#Debe ser una matriz de 64x1 para poder usarla en el predictor\n",
    "#Usa reshape de numpy para ajustar la dimensión\n",
    "\n",
    "\n",
    "#Por último imprime la predicción\n",
    "print('El número predicho es:', ______________)\n"
   ]
  },
  {
   "cell_type": "markdown",
   "metadata": {},
   "source": [
    "## Ejercicio 4.Mejorar el modelo (5 puntos)\n",
    "\n",
    "Optimiza los hiperparámetros del clasificador para obtener el mejor accuracy posible. Intenta probar con al menos 5 valores diferentes para el número de vecinos (knn) y al menos 3 métricas diferentes.  (Al menos 15 modelos diferentes en total).  \n"
   ]
  }
 ],
 "metadata": {
  "colab": {
   "provenance": []
  },
  "kernelspec": {
   "display_name": "Python 3 (ipykernel)",
   "language": "python",
   "name": "python3"
  },
  "language_info": {
   "codemirror_mode": {
    "name": "ipython",
    "version": 3
   },
   "file_extension": ".py",
   "mimetype": "text/x-python",
   "name": "python",
   "nbconvert_exporter": "python",
   "pygments_lexer": "ipython3",
   "version": "3.10.8"
  },
  "vscode": {
   "interpreter": {
    "hash": "2a00e90e6e292990a44702b6bae13fe7b3b01e197e28a6517e6d88614134219c"
   }
  }
 },
 "nbformat": 4,
 "nbformat_minor": 1
}
