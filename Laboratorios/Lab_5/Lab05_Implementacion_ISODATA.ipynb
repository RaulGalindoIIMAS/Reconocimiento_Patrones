{
 "cells": [
  {
   "cell_type": "markdown",
   "metadata": {},
   "source": [
    "<a target=\"_blank\" href=\"https://colab.research.google.com/github/Detroxsys/RP-2023-2/blob/main/Laboratorios/Lab05%20ISODATA%20implementacion/Lab05_Implementacion_ISODATA.ipynb\">\n",
    "  <img src=\"https://colab.research.google.com/assets/colab-badge.svg\" alt=\"Open In Colab\"/>\n",
    "</a>"
   ]
  },
  {
   "cell_type": "markdown",
   "metadata": {
    "id": "Vh4DFCcJGyxt"
   },
   "source": [
    "# Laboratorio 05: Implementar ISODATA"
   ]
  },
  {
   "cell_type": "code",
   "execution_count": 6,
   "metadata": {
    "id": "eRh_gCMPGs-P"
   },
   "outputs": [],
   "source": [
    "#Librerías a utilizar\n",
    "import numpy as np #Para distancias y manipulacion de arreglos\n",
    "import matplotlib.pyplot as plt #Graficación."
   ]
  },
  {
   "cell_type": "markdown",
   "metadata": {
    "id": "PBXKLSWcG3VW"
   },
   "source": [
    "## Implementa el algoritmo (7 puntos)"
   ]
  },
  {
   "cell_type": "markdown",
   "metadata": {
    "id": "sYsnLKFJHvq7"
   },
   "source": [
    "Implementar el algoritmo de ISODATA. \n",
    "* Comentar en el código que paso se esta implementando. \n",
    "* Documentar cada función utilizada. \n",
    "\n",
    "Lo siguiente es una sugerencia de la estructura, no es obligatorio seguirla al pie de la letra. "
   ]
  },
  {
   "cell_type": "code",
   "execution_count": 7,
   "metadata": {
    "id": "jS0OKUGmIFvM"
   },
   "outputs": [],
   "source": [
    "#Definir una función para la métrica a utilizar (eculideana) "
   ]
  },
  {
   "cell_type": "code",
   "execution_count": 8,
   "metadata": {
    "id": "v0eCyHkkG5mw"
   },
   "outputs": [],
   "source": [
    "class ISODATA(): \n",
    "  def ___init__(self): \n",
    "    #Pasar todos los parámetros necesarios \n",
    "    pass\n",
    "  def assign_clusters(self): \n",
    "    #Función para asignar clusters. \n",
    "    pass\n",
    "  def drop_clusters(self): \n",
    "    #Función para descartar clusters. \n",
    "    pass\n",
    "  def splitting_clusters(self): \n",
    "    #Función para separar clusters. \n",
    "    pass\n",
    "  def lumping_clusters(self): \n",
    "    #Función para combinar clusters. \n",
    "    pass\n",
    "  def update_centers(self): \n",
    "    #Actualizar los centros de los clusters. \n",
    "    pass\n",
    "  def compute_avg_distances(self): \n",
    "    #Calcular las distancias promedio \n",
    "    pass\n",
    "  def compute_global_distance(self): \n",
    "    #Calcular la distancia global\n",
    "    pass\n",
    "  def compute_std(self): \n",
    "    #Calcular desviaciones estándar.\n",
    "    pass\n",
    "  def compute_dist_bwtn__centers(self): \n",
    "    #Calcular la distancia entre los centros \n",
    "    pass\n",
    "  \n",
    "  def classsifier(self): \n",
    "    #Pasar el conjunto de entrenamiento X y los cluster iniciales y \n",
    "    #Ejecutar el algoritmo\n",
    "    pass\n"
   ]
  },
  {
   "cell_type": "markdown",
   "metadata": {
    "id": "4XaZ_Xc2KXsL"
   },
   "source": [
    "## Test del algoritmo (1 punto)"
   ]
  },
  {
   "cell_type": "markdown",
   "metadata": {
    "id": "Ahu1hzo-KfXQ"
   },
   "source": [
    "Prueba el algoritmo con los siguientes patrones y grafica el resultado. "
   ]
  },
  {
   "cell_type": "code",
   "execution_count": 9,
   "metadata": {
    "id": "HdwaKDb-KbGn"
   },
   "outputs": [],
   "source": [
    "X = np.array([  [0,0], \n",
    "                [1,0], \n",
    "                [1,1], \n",
    "                [0,1],\n",
    "                [4,1],\n",
    "                [5,1], \n",
    "                [5,2],\n",
    "                [7,1],\n",
    "                [7,2],\n",
    "                [6,3],\n",
    "                [2,3],\n",
    "                [1,4],\n",
    "                [2,5],\n",
    "                [3,5] ], dtype=float)\n",
    "\n",
    "Y = np.array( [ [0,0], \n",
    "                [4,1],\n",
    "                [7,2], \n",
    "                [2,3],\n",
    "                [3,5]], dtype=float)"
   ]
  },
  {
   "cell_type": "markdown",
   "metadata": {
    "id": "YVMt5T7CNeJR"
   },
   "source": [
    "## Mini-Cuestionario (2 puntos)"
   ]
  },
  {
   "cell_type": "markdown",
   "metadata": {
    "id": "eIvwdU3LOVJS"
   },
   "source": [
    "### Opinión: "
   ]
  },
  {
   "cell_type": "markdown",
   "metadata": {
    "id": "Oa6Cx9ssOPH7"
   },
   "source": [
    "### Conteste las 4 preguntas típicas de análisis y diseño de algoritmos\n",
    "\n",
    "\n",
    "**1. ¿Es correcto?**\n",
    "\n",
    "**2. ¿Complejidad temporal?**\n",
    "\n",
    "\n",
    "**3. ¿Complejidad espacial?**\n",
    "\n",
    "\n",
    "**4. ¿Ventajas y desventajas?**\n"
   ]
  }
 ],
 "metadata": {
  "colab": {
   "provenance": [],
   "toc_visible": true
  },
  "kernelspec": {
   "display_name": "Python 3 (ipykernel)",
   "language": "python",
   "name": "python3"
  },
  "language_info": {
   "codemirror_mode": {
    "name": "ipython",
    "version": 3
   },
   "file_extension": ".py",
   "mimetype": "text/x-python",
   "name": "python",
   "nbconvert_exporter": "python",
   "pygments_lexer": "ipython3",
   "version": "3.9.7"
  }
 },
 "nbformat": 4,
 "nbformat_minor": 1
}
